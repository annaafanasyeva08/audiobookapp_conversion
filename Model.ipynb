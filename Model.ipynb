{
 "cells": [
  {
   "cell_type": "code",
   "execution_count": 1,
   "metadata": {},
   "outputs": [],
   "source": [
    "import numpy as np\n",
    "import tensorflow as tf"
   ]
  },
  {
   "cell_type": "code",
   "execution_count": 2,
   "metadata": {},
   "outputs": [],
   "source": [
    "npz = np.load('Audiobooks_data_train.npz')\n",
    "\n",
    "train_inputs = npz['inputs'].astype(np.float)\n",
    "train_targets = npz['targets'].astype(np.int)\n",
    "\n",
    "npz = np.load('Audiobooks_data_validation.npz')\n",
    "\n",
    "validation_inputs, validation_targets = npz['inputs'].astype(np.float), npz['targets'].astype(np.int)\n",
    "\n",
    "#test data\n",
    "npz = np.load('Audiobooks_data_train.npz')\n",
    "\n",
    "test_inputs, test_targets = npz['inputs'].astype(np.float), npz['targets'].astype(np.int)"
   ]
  },
  {
   "cell_type": "code",
   "execution_count": 3,
   "metadata": {
    "scrolled": true
   },
   "outputs": [
    {
     "name": "stdout",
     "output_type": "stream",
     "text": [
      "Epoch 1/100\n",
      "36/36 - 1s - loss: 0.6377 - accuracy: 0.6144 - val_loss: 0.5529 - val_accuracy: 0.6823\n",
      "Epoch 2/100\n",
      "36/36 - 0s - loss: 0.5023 - accuracy: 0.7457 - val_loss: 0.4637 - val_accuracy: 0.7562\n",
      "Epoch 3/100\n",
      "36/36 - 0s - loss: 0.4396 - accuracy: 0.7737 - val_loss: 0.4339 - val_accuracy: 0.7405\n",
      "Epoch 4/100\n",
      "36/36 - 0s - loss: 0.4090 - accuracy: 0.7918 - val_loss: 0.4099 - val_accuracy: 0.7808\n",
      "Epoch 5/100\n",
      "36/36 - 0s - loss: 0.3956 - accuracy: 0.7974 - val_loss: 0.3921 - val_accuracy: 0.7897\n",
      "Epoch 6/100\n",
      "36/36 - 0s - loss: 0.3810 - accuracy: 0.8011 - val_loss: 0.3848 - val_accuracy: 0.7875\n",
      "Epoch 7/100\n",
      "36/36 - 0s - loss: 0.3752 - accuracy: 0.8072 - val_loss: 0.3881 - val_accuracy: 0.7584\n",
      "Epoch 8/100\n",
      "36/36 - 0s - loss: 0.3688 - accuracy: 0.8061 - val_loss: 0.3846 - val_accuracy: 0.7897\n",
      "Epoch 9/100\n",
      "36/36 - 0s - loss: 0.3641 - accuracy: 0.8092 - val_loss: 0.3772 - val_accuracy: 0.7987\n",
      "Epoch 10/100\n",
      "36/36 - 0s - loss: 0.3608 - accuracy: 0.8120 - val_loss: 0.3771 - val_accuracy: 0.7942\n",
      "Epoch 11/100\n",
      "36/36 - 0s - loss: 0.3563 - accuracy: 0.8167 - val_loss: 0.3793 - val_accuracy: 0.7875\n",
      "Epoch 12/100\n",
      "36/36 - 0s - loss: 0.3542 - accuracy: 0.8178 - val_loss: 0.3644 - val_accuracy: 0.8054\n",
      "Epoch 13/100\n",
      "36/36 - 0s - loss: 0.3528 - accuracy: 0.8139 - val_loss: 0.3582 - val_accuracy: 0.8031\n",
      "Epoch 14/100\n",
      "36/36 - 0s - loss: 0.3483 - accuracy: 0.8181 - val_loss: 0.3666 - val_accuracy: 0.7897\n",
      "Epoch 15/100\n",
      "36/36 - 0s - loss: 0.3527 - accuracy: 0.8094 - val_loss: 0.3585 - val_accuracy: 0.8009\n",
      "Epoch 16/100\n",
      "36/36 - 0s - loss: 0.3468 - accuracy: 0.8203 - val_loss: 0.3652 - val_accuracy: 0.8031\n"
     ]
    },
    {
     "data": {
      "text/plain": [
       "<keras.callbacks.History at 0x7fc7a9f45670>"
      ]
     },
     "execution_count": 3,
     "metadata": {},
     "output_type": "execute_result"
    }
   ],
   "source": [
    "input_size = train_inputs.shape[1]\n",
    "output_size = 2\n",
    "hidden_layer_size = 50\n",
    "\n",
    "model = tf.keras.Sequential([\n",
    "                            tf.keras.layers.Dense(hidden_layer_size, activation='relu'),\n",
    "                            tf.keras.layers.Dense(hidden_layer_size, activation='relu'),\n",
    "                            tf.keras.layers.Dense(output_size, activation='softmax')\n",
    "                            ])\n",
    "model.compile(optimizer='adam', loss ='sparse_categorical_crossentropy', metrics=['accuracy'])\n",
    "\n",
    "batch_size = 100\n",
    "\n",
    "max_epochs = 100\n",
    "\n",
    "early_stopping = tf.keras.callbacks.EarlyStopping(patience=3)\n",
    "\n",
    "model.fit(train_inputs,\n",
    "         train_targets,\n",
    "         batch_size = batch_size,\n",
    "         epochs = max_epochs,\n",
    "          callbacks = [early_stopping],\n",
    "         validation_data = (validation_inputs, validation_targets),\n",
    "         verbose=2)"
   ]
  },
  {
   "cell_type": "code",
   "execution_count": 4,
   "metadata": {},
   "outputs": [
    {
     "name": "stdout",
     "output_type": "stream",
     "text": [
      "112/112 [==============================] - 0s 841us/step - loss: 0.3417 - accuracy: 0.8293\n"
     ]
    }
   ],
   "source": [
    "#test the model\n",
    "test_loss, test_accuracy = model.evaluate(test_inputs, test_targets)"
   ]
  },
  {
   "cell_type": "code",
   "execution_count": 5,
   "metadata": {},
   "outputs": [
    {
     "name": "stdout",
     "output_type": "stream",
     "text": [
      "Test loss: 0.34. Test accuracy: 82.93%\n"
     ]
    }
   ],
   "source": [
    "print ('Test loss: {0:.2f}. Test accuracy: {1:.2f}%'.format(test_loss, test_accuracy * 100.))"
   ]
  }
 ],
 "metadata": {
  "kernelspec": {
   "display_name": "Python py3-TF2.0",
   "language": "python",
   "name": "py3-tf2.0"
  },
  "language_info": {
   "codemirror_mode": {
    "name": "ipython",
    "version": 3
   },
   "file_extension": ".py",
   "mimetype": "text/x-python",
   "name": "python",
   "nbconvert_exporter": "python",
   "pygments_lexer": "ipython3",
   "version": "3.8.5"
  }
 },
 "nbformat": 4,
 "nbformat_minor": 4
}
